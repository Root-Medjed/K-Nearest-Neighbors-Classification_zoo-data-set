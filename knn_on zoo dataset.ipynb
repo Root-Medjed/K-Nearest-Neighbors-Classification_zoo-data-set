{
 "cells": [
  {
   "cell_type": "markdown",
   "metadata": {
    "colab_type": "text",
    "id": "W_oI1y6-cY4d"
   },
   "source": [
    "# K-Nearest Neighbors Classification"
   ]
  },
  {
   "cell_type": "markdown",
   "metadata": {
    "colab_type": "text",
    "id": "p07JVvoScY4g"
   },
   "source": [
    "<b>Materials</b>: See [Using Jupyter Notebook and Python page](https://canvas.lms.unimelb.edu.au/courses/105477/pages/python-and-jupyter-notebooks?module_item_id=2613813) on Canvas (under Modules> Coding Resources) for information on the basic setup required for this class, including an iPython notebook viewer and the python packages NLTK, Numpy, Scipy, Matplotlib, Scikit-Learn, and Gensim. In particular, if you are not using a lab computer which already has it installed, we recommend installing all the data for NLTK, since you will need various parts of it to complete this assignment. Deep learning libraries such as keras and pytorch are also allowed.  You can also use any Python built-in packages, but do not use any other 3rd party packages (the packages listed above are all fine to use); if your iPython notebook doesn't run on the marker's machine, you will lose marks. <b> You should use Python 3</b>.  \n",
    "\n",
    "\n",
    "<b>Evaluation</b>: Your iPython notebook should run end-to-end without any errors in a reasonable amount of time, and you must follow all instructions provided below, including specific implementation requirements and instructions for what needs to be printed (please avoid printing output we don't ask for). You should edit the sections below where requested, but leave the rest of the code as is. You should leave the output from running your code in the iPython notebook you submit, to assist with marking. The amount each section is worth is given in parenthesis after the instructions. \n",
    "\n",
    "You will be marked not only on the correctness of your methods, but also the quality and efficency of your code: in particular, you should be careful to use Python built-in functions and operators when appropriate and pick descriptive variable names that adhere to <a href=\"https://www.python.org/dev/peps/pep-0008/\">Python style requirements</a>. If you think it might be unclear what you are doing, you should comment your code to help the marker make sense of it. We reserve the right to deduct up to 2 marks for unreadable or exessively inefficient code.\n",
    "\n",
    "<b>Updates</b>: Any major changes to the assignment will be announced via Canvas. Minor changes and clarifications will be announced on the discussion board (Piazza -> Assignment_1); we recommend you check it regularly.\n",
    "\n",
    "<b>Academic misconduct</b>: For most people, collaboration will form a natural part of the undertaking of this homework, and we encourge you to discuss it in general terms with other students. However, this ultimately is still an individual task, and so reuse of code or other instances of clear influence will be considered cheating. Please check the <a href=\"https://canvas.lms.unimelb.edu.au/courses/105477/modules\">CIS Academic Honesty training</a> for more information. We will be checking submissions for originality and will invoke the University’s <a href=\"http://academichonesty.unimelb.edu.au/policy.html\">Academic Misconduct policy</a> where inappropriate levels of collusion or plagiarism are deemed to have taken place."
   ]
  },
  {
   "cell_type": "markdown",
   "metadata": {
    "colab_type": "text",
    "id": "wseHhYGScY4g"
   },
   "source": [
    "## Overview"
   ]
  },
  {
   "cell_type": "markdown",
   "metadata": {
    "colab_type": "text",
    "id": "wH9UvbJTcY4h"
   },
   "source": [
    "In this assignment, you will implement the K-nearest neighbor (KNN) classification algorithm and apply it to a real-world machine learning data set. In particular we will classify zoo animals into seven animal categories. \n",
    "\n",
    "Firstly, you will read in the dataset into a train and a test set (Q1). Secondly, you will implement different distance functions (Q2). Thirdly, you will implement a KNN classifier (Q3). You will apply and evaluate your classifier on the data set exploring different parameters (Q4, Q5). Finally, you will critically discuss your results (Q6)."
   ]
  },
  {
   "cell_type": "markdown",
   "metadata": {},
   "source": [
    "### Question 1: Loading the data\n",
    "\n",
    "**Instructions:** For this assignment we will develop a K-Nearest Neighbors (KNN) classifier to classify animals in the zoo into pre-defined categories of animals, namely\n",
    "```\n",
    "1: mammal\n",
    "2: bird\n",
    "3: reptile\n",
    "4: fish\n",
    "5: amphibian\n",
    "6: insect\n",
    "7: invertebrate\n",
    "```\n",
    "\n",
    "We use a data set of zoo animals from the UCI Machine learning repository.\n",
    "\n",
    "The original data can be found here: https://archive.ics.uci.edu/ml/datasets/Zoo. \n",
    "\n",
    "The dataset consists of 101 instances. Each instance corresponds to an animal which has a unique identifier (the name of the animal; first field) and is characterized with 16 features:\n",
    "\n",
    "```\n",
    "   1. hair\t\t    Boolean\n",
    "   2. feathers\t\tBoolean\n",
    "   3. eggs\t\t    Boolean\n",
    "   4. milk\t\t    Boolean\n",
    "   5. airborne\t\tBoolean\n",
    "   6. aquatic\t\tBoolean\n",
    "   7. predator\t\tBoolean\n",
    "   8. toothed\t\tBoolean\n",
    "   9. backbone\t\tBoolean\n",
    "  10. breathes\t\tBoolean\n",
    "  11. venomous\t\tBoolean\n",
    "  12. fins\t\t    Boolean\n",
    "  13. legs\t\t    Numeric (set of values: {0,2,4,5,6,8})\n",
    "  14. tail\t\t    Boolean\n",
    "  15. domestic\t\tBoolean\n",
    "  16. catsize\t\tBoolean\n",
    "```\n",
    "\n",
    "You need to first obtain this dataset, which is on Canvas (assignment 1). The files we will be using are called *zoo.data* and *zoo.labels*. Make sure the files are saved in the same folder as this notebook.\n",
    "\n",
    "Both files are in comma-separated value format.\n",
    "\n",
    "*zoo.features* contains 101 instances, one line per instance. The first field is the unique instance identifier (name of animals). The following fields contain the 16 features, as described above.\n",
    "\n",
    "*zoo.labels* contains the gold labels (i.e., one of the seven classes above), for one instance per line. Again, the first field is the instance identifier, and the second field the instance label.\n",
    "\n",
    "**Task**: Read the two files  \n",
    "1. create a **training_feature** set (list of features for the first 90 instances in the zoo.* files) and a **training_label** set (list of labels for the corresponding). \n",
    "2. create a **test_feature** set (list of features of the remaining instances in the zoo.* files) and a **test_label** set (list of labels for the corresponding). \n",
    "\n",
    "**Check**: Use the assertion statements in *\"For your testing\"* to validate your code."
   ]
  },
  {
   "cell_type": "code",
   "execution_count": 1,
   "metadata": {},
   "outputs": [],
   "source": [
    "data = open(\"zoo.features.csv\", 'r').readlines()\n",
    "gold = open(\"zoo.labels.csv\", 'r').readlines()\n",
    "\n",
    "train_features = []\n",
    "train_labels   = []\n",
    "test_features = []\n",
    "test_labels   = []\n",
    "\n",
    "###########################\n",
    "## YOUR CODE BEGINS HERE\n",
    "###########################\n",
    "for i in range(len(data)):\n",
    "    data[i] = data[i].strip()\n",
    "    data[i] = data[i].split(',')\n",
    "    \n",
    "    if i < 90:\n",
    "        train_features.append(data[i][1:])\n",
    "    else:\n",
    "        test_features.append(data[i][1:])\n",
    "\n",
    "for i in range(len(train_features)):\n",
    "    train_features[i] = [int(x) for x in train_features[i]]\n",
    "    \n",
    "for j in range(len(test_features)):\n",
    "    test_features[j] = [int(y) for y in test_features[j]]  \n",
    "    \n",
    "    \n",
    "for k in range(len(gold)):\n",
    "    gold[k] = gold[k].strip()\n",
    "    gold[k] = gold[k].split(',')\n",
    "    \n",
    "    if k < 90:\n",
    "        train_labels.append(int(gold[k][1]))\n",
    "    else:\n",
    "        test_labels.append(int(gold[k][1]))\n",
    "\n",
    "###########################\n",
    "## YOUR CODE BEGINS HERE\n",
    "###########################"
   ]
  },
  {
   "cell_type": "markdown",
   "metadata": {},
   "source": [
    "<b>For your testing</b>"
   ]
  },
  {
   "cell_type": "code",
   "execution_count": 2,
   "metadata": {},
   "outputs": [],
   "source": [
    "assert len(train_features) == len(train_labels)\n",
    "assert len(train_features[0])==len(train_features[-1])\n",
    "assert train_features[2][12]==0 and train_labels[2]==4"
   ]
  },
  {
   "cell_type": "markdown",
   "metadata": {
    "colab_type": "text",
    "collapsed": true,
    "id": "V2OlvNAicY4i"
   },
   "source": [
    "### Question 2: Distance Functions\n",
    "\n",
    "<b>Instructions</b>: Implement the four distance functions specified below. Use <b>only</b> the library imported below, i.e., <b>do not</b> use implementations from any other Python library. \n",
    "\n",
    "1. Eucledian distance\n",
    "2. Cosine distance\n",
    "3. Hamming distance \n",
    "4. Jaccard distance \n",
    "\n",
    "Each distance function takes as input\n",
    "- Two feature vectors\n",
    "\n",
    "and returns as output\n",
    "- The distance between the two feature vectors (float)\n",
    "\n",
    "**Note** for the purpose of this assignment we consider the numeric feature (legs) to be discretized already with each individual value belonging constituting a separate class."
   ]
  },
  {
   "cell_type": "code",
   "execution_count": 3,
   "metadata": {
    "colab": {
     "base_uri": "https://localhost:8080/",
     "height": 139
    },
    "colab_type": "code",
    "executionInfo": {
     "elapsed": 10593,
     "status": "ok",
     "timestamp": 1588139440049,
     "user": {
      "displayName": "Jey Han Lau",
      "photoUrl": "",
      "userId": "09065329932778503205"
     },
     "user_tz": -600
    },
    "id": "szPlY9PIcY4j",
    "outputId": "218560c5-6e80-4a8b-bfaf-5cb46b90f34c",
    "scrolled": true
   },
   "outputs": [],
   "source": [
    "import math\n",
    "\n",
    "#########################\n",
    "# Your answer BEGINS HERE\n",
    "#########################\n",
    "   \n",
    "\n",
    "def eucledian_distance(fv1, fv2):\n",
    "    # insert code here\n",
    "    distance = math.sqrt(sum([(a-b)**2 for a, b in zip(fv1, fv2)]))\n",
    "    d = round(float(distance), 2)\n",
    "    return d\n",
    "\n",
    "def cosine_distance(fv1, fv2):\n",
    "    # insert code here\n",
    "    \n",
    "    sum_aa = 0 #a square\n",
    "    sum_bb = 0 #b square\n",
    "    sum_ab = 0 #a * b\n",
    "    \n",
    "    for i in range(len(fv1)):\n",
    "        a = fv1[i]\n",
    "        b = fv2[i]\n",
    "        sum_aa += a*a\n",
    "        sum_bb += b*b\n",
    "        sum_ab += a*b\n",
    "        \n",
    "    return 1 - (sum_ab / math.sqrt(sum_aa*sum_bb))\n",
    "\n",
    "def hamming_distance(fv1, fv2):\n",
    "    # insert code here\n",
    "    dist = 0\n",
    "    for i in range(0,len(fv1)):\n",
    "        if fv1[i] != fv2[i]:\n",
    "            dist += 1\n",
    "    return dist\n",
    "\n",
    "#print (hamming_distance([1,1,1,1], [0,1,0,0]))\n",
    "    \n",
    "    \n",
    "def jaccard_distance(fv1, fv2):   \n",
    "    # insert code here\n",
    "    intersection = 0\n",
    "    count_fv1 = 0\n",
    "    count_fv2 = 0\n",
    "    \n",
    "    for i in range(0, len(fv1)):\n",
    "        if fv1[i] != 0 and fv2[i] != 0:\n",
    "            if fv1[i] == fv2[i]:\n",
    "                intersection += 1\n",
    "       \n",
    "    for j in range(0, len(fv1)):\n",
    "        if fv1[j] != 0:\n",
    "            count_fv1 += 1\n",
    "            \n",
    "    for k in range(0, len(fv2)):\n",
    "        if fv2[k] != 0:\n",
    "            count_fv2 += 1\n",
    "            \n",
    "    union = (count_fv1 + count_fv2) - intersection\n",
    "    #print('intersection')\n",
    "    #print(intersection)\n",
    "    return 1 - (float(intersection) / union)\n",
    "\n",
    "#jaccard_distance([1,1,1,1], [0,1,0,0])\n"
   ]
  },
  {
   "cell_type": "code",
   "execution_count": 4,
   "metadata": {
    "colab": {},
    "colab_type": "code",
    "id": "PCkSP91lcY4q"
   },
   "outputs": [],
   "source": [
    "assert round(eucledian_distance([1,0],[0.5,1]),2)==1.12 \n",
    "assert jaccard_distance([1,1,1,1], [0,1,0,0])==0.75"
   ]
  },
  {
   "cell_type": "markdown",
   "metadata": {
    "colab_type": "text",
    "id": "JTt3T9fycY4p"
   },
   "source": [
    "<b>For your testing: </b>"
   ]
  },
  {
   "cell_type": "markdown",
   "metadata": {
    "colab_type": "text",
    "id": "zknFIccAcY40"
   },
   "source": [
    "### Question 3: KNN Classifier\n",
    "\n",
    "<b>Instructions</b>: Here, you implement your KNN classifier. It takes as input \n",
    "- training data features\n",
    "- training data labels\n",
    "- test data features\n",
    "- parameter K\n",
    "- distance function(s) based on which nearest neighbors will be identified\n",
    "\n",
    "It returns as output \n",
    "- the predicted labels for the test data\n",
    "\n",
    "**Voting stragegy** Your classifier will use majority voting (i.e., no distance weighting)\n",
    "\n",
    "**You should implement the classifier from scratch yourself**, i.e., <b> you must not</b> use an existing implementation in any Python library.\n",
    "\n",
    "**Ties**. Ties may occur when computing the K nearest neighbors, or when predicting the class based on the neighborhood. You may deal with ties whichever way you want (as long as you still use the requested distance functions)."
   ]
  },
  {
   "cell_type": "markdown",
   "metadata": {
    "colab_type": "text",
    "id": "cWgLNH3LcY45"
   },
   "source": [
    "#### <b>For your testing:</b>"
   ]
  },
  {
   "cell_type": "code",
   "execution_count": 5,
   "metadata": {
    "colab": {
     "base_uri": "https://localhost:8080/",
     "height": 71
    },
    "colab_type": "code",
    "executionInfo": {
     "elapsed": 919,
     "status": "ok",
     "timestamp": 1588139482398,
     "user": {
      "displayName": "Jey Han Lau",
      "photoUrl": "",
      "userId": "09065329932778503205"
     },
     "user_tz": -600
    },
    "id": "W6rdnrOXcY41",
    "outputId": "8d2391db-d5c0-4ea2-ea83-850e79bffd5c",
    "scrolled": false
   },
   "outputs": [],
   "source": [
    "def KNN(train_features, train_labels, test_features, k, dist_fun):\n",
    "    \n",
    "    predictions = []\n",
    "    \n",
    "    ###########################\n",
    "    ## YOUR CODE BEGINS HERE\n",
    "    ###########################\n",
    "       \n",
    "    for test in test_features:\n",
    "        #calculate the distances between each test data and training data\n",
    "        distances = []\n",
    "        for i in range(0, len(train_features)):\n",
    "            d = dist_fun(train_features[i],test)\n",
    "            distances.append(d)\n",
    "        \n",
    "        #############TEST##############\n",
    "        #print('distances')\n",
    "        #print(distances)       \n",
    "        #############TEST##############\n",
    "        \n",
    "        s = sorted(range(len(distances)), key = lambda d : distances[d])   # sort the distances\n",
    "        \n",
    "        #############TEST##############\n",
    "        #print('return indexes of sorted distances')\n",
    "        #print(s)\n",
    "        #print(len(s))\n",
    "        #############TEST##############\n",
    "        \n",
    "        neighbours = []      #find the neighbours based on k and save them/it into neighbours list\n",
    "        for i in range(k):\n",
    "            neighbours.append(s[i])\n",
    "         \n",
    "        vote_values = []             #now count the vote\n",
    "        for neighbour in neighbours:\n",
    "            vote_values.append(neighbour)\n",
    "\n",
    "        predict_index = max(set(vote_values), key = vote_values.count)\n",
    "        \n",
    "        predict = train_labels[predict_index]\n",
    "        predictions.append(predict)\n",
    "    #############TEST##############\n",
    "    #print('--------')\n",
    "    #print(predictions)\n",
    "    #############TEST##############\n",
    "\n",
    "    ###########################\n",
    "    ## YOUR CODE BEGINS HERE\n",
    "    ########################### \n",
    "    \n",
    "    return predictions  \n"
   ]
  },
  {
   "cell_type": "code",
   "execution_count": 6,
   "metadata": {},
   "outputs": [],
   "source": [
    "assert KNN([[1,1],[5,5],[1,2]], [1,0,1], [[1,1]], 1, eucledian_distance) == [1]"
   ]
  },
  {
   "cell_type": "markdown",
   "metadata": {
    "colab": {},
    "colab_type": "code",
    "id": "th1NNkYZcY45"
   },
   "source": [
    "### Question 4: Evaluation\n",
    "**Instructions:** Write a function that computes the \"accuracy\" of your classifier. Given a set of predicted lables and a set of gold labels, it returns the fraction of correct labels over all predicted labels. \n",
    "\n",
    "**Example**: `The gold truth labels for four test instances are [1, 1, 1, 1]. A system predicted the labels [0, 1, 0, 0] for the same 4 instances. The accuracy of the system is 1/4 = 0.25\n",
    "`\n",
    "\n",
    "Your function will take as input \n",
    "- gold labels\n",
    "- predicted labels\n",
    "\n",
    "It returns as output\n",
    "- the accuracy value (float).\n"
   ]
  },
  {
   "cell_type": "code",
   "execution_count": 7,
   "metadata": {
    "colab_type": "text",
    "id": "F3V5AkC8cY48"
   },
   "outputs": [],
   "source": [
    "def accuracy(predict, gold):\n",
    "    \n",
    "    ###########################\n",
    "    ## YOUR CODE BEGINS HERE\n",
    "    ###########################\n",
    "    correct = 0\n",
    "    for i in range(len(gold)):\n",
    "        if gold[i] == predict[i]:\n",
    "            correct += 1\n",
    "    accuracy = round(correct / float(len(gold)), 2)\n",
    "\n",
    "\n",
    "    ###########################\n",
    "    ## YOUR CODE BEGINS HERE\n",
    "    ###########################\n",
    "\n",
    "    return accuracy"
   ]
  },
  {
   "cell_type": "markdown",
   "metadata": {
    "colab_type": "text",
    "id": "xUwPHXMmcY49"
   },
   "source": [
    "<b>For your testing:</b>"
   ]
  },
  {
   "cell_type": "code",
   "execution_count": 8,
   "metadata": {
    "colab": {},
    "colab_type": "code",
    "id": "8hL-EnT-cY49"
   },
   "outputs": [],
   "source": [
    "assert accuracy([1, 1, 1, 1], [0, 1, 0, 1])==0.5"
   ]
  },
  {
   "cell_type": "markdown",
   "metadata": {},
   "source": [
    "### Question 5: Applying your KNN classifiers to the Zoo Dataset\n",
    "\n",
    "**Using the functions you have implemented above, please**\n",
    "\n",
    "<b> 1. </b>\n",
    "For each of the distance functions you implemented in Question 2, construct four KNN classifiers with K=1, K=5, K=25, K=55. You will create a total of 16 (4 distance functions x 4 K values) classifiers.\n",
    "\n",
    "<b> 2. </b>\n",
    "Compute the test accuracy for each model"
   ]
  },
  {
   "cell_type": "code",
   "execution_count": 9,
   "metadata": {},
   "outputs": [
    {
     "name": "stdout",
     "output_type": "stream",
     "text": [
      "Euclidean\n",
      "0.82\n",
      "0.82\n",
      "0.64\n",
      "0.45\n",
      "Cosine\n",
      "0.82\n",
      "0.73\n",
      "0.55\n",
      "0.45\n",
      "Jaccard\n",
      "0.82\n",
      "0.82\n",
      "0.64\n",
      "0.36\n",
      "Hamming\n",
      "0.82\n",
      "0.91\n",
      "0.64\n",
      "0.36\n"
     ]
    }
   ],
   "source": [
    "########################\n",
    "# Your code STARTS HERE\n",
    "########################\n",
    "\n",
    "# 1. Predict test labels with each KNN classifier\n",
    "k = [1, 5, 25, 55]\n",
    "#dist_fun_list = [eucledian_distance, cosine_distance, jaccard_distance,hamming_distance]\n",
    "\n",
    "result_ed = []\n",
    "result_cd = []\n",
    "result_jd = []\n",
    "result_hd = []\n",
    "\n",
    "for i in range(0, len(k)):\n",
    "    #for j in range(0, len(dist_fun_list)):\n",
    "    result_ed.append(KNN(train_features, train_labels, test_features, k[i], eucledian_distance))\n",
    "    result_cd.append(KNN(train_features, train_labels, test_features, k[i], cosine_distance))\n",
    "    result_jd.append(KNN(train_features, train_labels, test_features, k[i], jaccard_distance))\n",
    "    result_hd.append(KNN(train_features, train_labels, test_features, k[i], hamming_distance))\n",
    "    \n",
    "    \n",
    "#print(KNN(train_features, train_labels, test_features, 5, cosine_distance))\n",
    "##########TEST#############    \n",
    "#print('ed')\n",
    "#print(result_ed)\n",
    "#print('cd')\n",
    "#print(result_cd)\n",
    "#print('jd')\n",
    "#print(result_jd)\n",
    "#print('hd')\n",
    "#print(result_hd)\n",
    "##########TEST#############    \n",
    "\n",
    "# 2. Compute the accuracy scores \n",
    "\n",
    "for i in range(0 ,len(result_ed)):\n",
    "    accuracy_ed = accuracy(result_ed[i], test_labels)\n",
    "    \n",
    "for i in range(0 ,len(result_cd)):\n",
    "    accuracy_cd = accuracy(result_cd[i], test_labels)\n",
    "    \n",
    "for i in range(0 ,len(result_ed)):\n",
    "    accuracy_jd = accuracy(result_jd[i], test_labels)\n",
    "    \n",
    "for i in range(0 ,len(result_ed)):\n",
    "    accuracy_hd = accuracy(result_hd[i], test_labels)\n",
    "\n",
    "accuracy_knn_euc_1 = accuracy(result_ed[0], test_labels)\n",
    "accuracy_knn_euc_5 = accuracy(result_ed[1], test_labels)\n",
    "accuracy_knn_euc_25 = accuracy(result_ed[2], test_labels)\n",
    "accuracy_knn_euc_55 = accuracy(result_ed[3], test_labels)\n",
    "\n",
    "\n",
    "accuracy_knn_cos_1 = accuracy(result_cd[0], test_labels)\n",
    "accuracy_knn_cos_5 = accuracy(result_cd[1], test_labels)\n",
    "accuracy_knn_cos_25 = accuracy(result_cd[2], test_labels)\n",
    "accuracy_knn_cos_55 = accuracy(result_cd[3], test_labels)\n",
    "\n",
    "accuracy_knn_jac_1 = accuracy(result_jd[0], test_labels)\n",
    "accuracy_knn_jac_5 = accuracy(result_jd[1], test_labels)\n",
    "accuracy_knn_jac_25 = accuracy(result_jd[2], test_labels)\n",
    "accuracy_knn_jac_55 = accuracy(result_jd[3], test_labels)\n",
    "\n",
    "accuracy_knn_ham_1 = accuracy(result_hd[0], test_labels)\n",
    "accuracy_knn_ham_5 = accuracy(result_hd[1], test_labels)\n",
    "accuracy_knn_ham_25 = accuracy(result_hd[2], test_labels)\n",
    "accuracy_knn_ham_55 = accuracy(result_hd[3], test_labels)\n",
    "\n",
    "\n",
    "\n",
    "########################\n",
    "# Your code ENDS HERE\n",
    "########################\n",
    "\n",
    "print(\"Euclidean\")\n",
    "print(accuracy_knn_euc_1)\n",
    "print(accuracy_knn_euc_5)\n",
    "print(accuracy_knn_euc_25)\n",
    "print(accuracy_knn_euc_55)\n",
    "print(\"Cosine\")\n",
    "print(accuracy_knn_cos_1)\n",
    "print(accuracy_knn_cos_5)\n",
    "print(accuracy_knn_cos_25)\n",
    "print(accuracy_knn_cos_55)\n",
    "print(\"Jaccard\")\n",
    "print(accuracy_knn_jac_1)\n",
    "print(accuracy_knn_jac_5)\n",
    "print(accuracy_knn_jac_25)\n",
    "print(accuracy_knn_jac_55)\n",
    "print(\"Hamming\")\n",
    "print(accuracy_knn_ham_1)\n",
    "print(accuracy_knn_ham_5)\n",
    "print(accuracy_knn_ham_25)\n",
    "print(accuracy_knn_ham_55)\n"
   ]
  },
  {
   "cell_type": "code",
   "execution_count": null,
   "metadata": {},
   "outputs": [],
   "source": []
  },
  {
   "cell_type": "code",
   "execution_count": null,
   "metadata": {},
   "outputs": [],
   "source": []
  }
 ],
 "metadata": {
  "accelerator": "GPU",
  "anaconda-cloud": {},
  "colab": {
   "collapsed_sections": [],
   "name": "word-similarity.ipynb",
   "provenance": [],
   "toc_visible": true
  },
  "kernelspec": {
   "display_name": "Python 3",
   "language": "python",
   "name": "python3"
  },
  "language_info": {
   "codemirror_mode": {
    "name": "ipython",
    "version": 3
   },
   "file_extension": ".py",
   "mimetype": "text/x-python",
   "name": "python",
   "nbconvert_exporter": "python",
   "pygments_lexer": "ipython3",
   "version": "3.9.5"
  }
 },
 "nbformat": 4,
 "nbformat_minor": 1
}
